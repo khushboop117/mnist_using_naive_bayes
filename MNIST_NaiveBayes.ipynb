{
 "cells": [
  {
   "cell_type": "code",
   "execution_count": 1,
   "metadata": {},
   "outputs": [],
   "source": [
    "import numpy as np\n",
    "import matplotlib.pyplot as plt\n",
    "import pandas as pd"
   ]
  },
  {
   "cell_type": "markdown",
   "metadata": {},
   "source": [
    "# My implemention of Bayes Classifier"
   ]
  },
  {
   "cell_type": "code",
   "execution_count": 6,
   "metadata": {},
   "outputs": [],
   "source": [
    "# All digits\n",
    "DIGITS = list(range(10))\n",
    "# values of pixels\n",
    "VALUES = [0, 1]\n",
    "# the index of label\n",
    "LABEL_COLUMN = 0\n",
    "# the columns of features\n",
    "FEATURE_COLUMNS = list(range(1, 785))\n",
    "\n",
    "\n",
    "class BayesModel:\n",
    "    def __init__(self, data, k=1):\n",
    "        # Laplace smoothing parameter k\n",
    "        self.k = k\n",
    "\n",
    "        self.data = data\n",
    "        # calculate prior\n",
    "        self.prior = self.calculate_prior()\n",
    "\n",
    "        # calculate likelihoods\n",
    "        self.likelihoods = dict()\n",
    "        self.fit()\n",
    "\n",
    "    def calculate_prior(self):\n",
    "        counter = self.data[LABEL_COLUMN].value_counts()\n",
    "        return counter / self.data.shape[0]\n",
    "\n",
    "    def __str__(self):\n",
    "        return \"Bayes model, using k={}\".format(self.k)\n",
    "\n",
    "    __repr__ = __str__\n",
    "\n",
    "    def fit(self):\n",
    "        \"\"\"Fit the model\"\"\"\n",
    "        print(\"Fitting model ...\")\n",
    "        for digit in DIGITS:\n",
    "            df = self.data[self.data[LABEL_COLUMN] == digit]\n",
    "            # total number of sample using smoothing method\n",
    "            smoothed_total_samples = len(df) + self.k * len(VALUES)\n",
    "            likelihood = dict()\n",
    "            for feature in FEATURE_COLUMNS:\n",
    "                counter = df[feature].value_counts()\n",
    "                counter = counter.to_dict()\n",
    "                prob = dict()\n",
    "                for v in VALUES:\n",
    "                    # the smoothed frequency\n",
    "                    c = 0\n",
    "                    if v in counter:\n",
    "                        c = counter[v]\n",
    "                    smoothed_frequency = c + self.k\n",
    "                    prob[v] = smoothed_frequency / smoothed_total_samples\n",
    "                    likelihood[feature] = prob\n",
    "            self.likelihoods[digit] = likelihood\n",
    "        print(\"Fitted.\")\n",
    "\n",
    "    def calculate_log_posteriori(self, x):\n",
    "        \"\"\"Calculate log posteriori of a sample x\"\"\"\n",
    "        log_posteriori = dict()\n",
    "        for digit in DIGITS:\n",
    "            digit_likelihoods = self.likelihoods[digit]\n",
    "            # sum of log p(f|class)\n",
    "            log_sum = sum(np.log(digit_likelihoods[i + 1][f]) for i, f in enumerate(x))\n",
    "            # add log p(class)\n",
    "            log_sum += np.log(self.prior[digit])\n",
    "            log_posteriori[digit] = log_sum\n",
    "        return log_posteriori\n",
    "\n",
    "    def predict(self, x):\n",
    "        \"\"\"Predict the label of x\"\"\"\n",
    "        # first, calculate log posteriori\n",
    "        log_posteriori = self.calculate_log_posteriori(x)\n",
    "        # sort log posteriori\n",
    "        log_posteriori = list(log_posteriori.items())\n",
    "        log_posteriori.sort(key=lambda x: x[1])\n",
    "        # select class with highest log posteriori\n",
    "        return log_posteriori[-1][0]\n",
    "\n",
    "    def predict_batch(self, xs):\n",
    "        \"\"\"Predict a batch of samples\"\"\"\n",
    "        n = len(xs)\n",
    "        predictions = [None for _ in range(n)]\n",
    "        # predict each sample in xs\n",
    "        for i in range(n):\n",
    "            pred = self.predict(xs[i])\n",
    "            predictions[i] = pred\n",
    "        return predictions\n",
    "\n",
    "    def get_confusion_matrix(self, test_set):\n",
    "        \"\"\"Calculate confusion matrix\"\"\"\n",
    "        values = test_set.values[:, 1:]\n",
    "        labels = test_set.values[:, 0]\n",
    "        predictions = self.predict_batch(values)\n",
    "        n = values.shape[0]\n",
    "        cm = np.zeros((10, 10))\n",
    "\n",
    "        for i in range(n):\n",
    "            pred = predictions[i]\n",
    "            true = labels[i]\n",
    "            cm[true][pred] += 1\n",
    "        return cm.astype(int)\n"
   ]
  },
  {
   "cell_type": "code",
   "execution_count": 7,
   "metadata": {},
   "outputs": [],
   "source": [
    "def preprocess(dataset):\n",
    "    for column in FEATURE_COLUMNS:\n",
    "        dataset[column] = dataset[column].apply(lambda p: 1 if p > 127.5 else 0)"
   ]
  },
  {
   "cell_type": "code",
   "execution_count": 8,
   "metadata": {},
   "outputs": [],
   "source": [
    "train = pd.read_csv(\"mnist_train.csv\", header=None)\n",
    "test = pd.read_csv(\"mnist_test.csv\", header=None)"
   ]
  },
  {
   "cell_type": "code",
   "execution_count": 9,
   "metadata": {},
   "outputs": [],
   "source": [
    "preprocess(train)\n",
    "preprocess(test)"
   ]
  },
  {
   "cell_type": "markdown",
   "metadata": {},
   "source": [
    "## 1."
   ]
  },
  {
   "cell_type": "markdown",
   "metadata": {},
   "source": [
    "Estimate the priors P(class) based on the frequencies of different classes in the training set. Report the values in a table. Round to 3 decimal places."
   ]
  },
  {
   "cell_type": "code",
   "execution_count": 10,
   "metadata": {},
   "outputs": [
    {
     "name": "stdout",
     "output_type": "stream",
     "text": [
      "Fitting model ...\n",
      "Fitted.\n"
     ]
    }
   ],
   "source": [
    "bayes = BayesModel(train)"
   ]
  },
  {
   "cell_type": "code",
   "execution_count": 11,
   "metadata": {},
   "outputs": [
    {
     "name": "stdout",
     "output_type": "stream",
     "text": [
      "P(class=0) = 0.099\n",
      "P(class=1) = 0.112\n",
      "P(class=2) = 0.099\n",
      "P(class=3) = 0.102\n",
      "P(class=4) = 0.097\n",
      "P(class=5) = 0.090\n",
      "P(class=6) = 0.099\n",
      "P(class=7) = 0.104\n",
      "P(class=8) = 0.098\n",
      "P(class=9) = 0.099\n"
     ]
    }
   ],
   "source": [
    "for digit in DIGITS:\n",
    "    print(\"P(class={}) = {:.3f}\".format(digit, bayes.prior[digit]))"
   ]
  },
  {
   "cell_type": "markdown",
   "metadata": {},
   "source": [
    "## 2."
   ]
  },
  {
   "cell_type": "markdown",
   "metadata": {},
   "source": [
    "Estimate the likelihoods P(Fi|class) for every pixel location i and for every digit class from 0 to 9."
   ]
  },
  {
   "cell_type": "code",
   "execution_count": 12,
   "metadata": {},
   "outputs": [
    {
     "name": "stdout",
     "output_type": "stream",
     "text": [
      "Building model when k =1\n",
      "Fitting model ...\n",
      "Fitted.\n",
      "Building model when k =2\n",
      "Fitting model ...\n",
      "Fitted.\n",
      "Building model when k =3\n",
      "Fitting model ...\n",
      "Fitted.\n",
      "Building model when k =4\n",
      "Fitting model ...\n",
      "Fitted.\n",
      "Building model when k =5\n",
      "Fitting model ...\n",
      "Fitted.\n"
     ]
    }
   ],
   "source": [
    "bayes_models = dict()\n",
    "for k in range(1, 6):\n",
    "    print(\"Building model when k ={}\".format(k))\n",
    "    bayes_models[k] = BayesModel(train, k=k)"
   ]
  },
  {
   "cell_type": "markdown",
   "metadata": {},
   "source": [
    "When k = 1, display likelihoods of $$ P(F_{682}=0 | class=5)$$\n",
    "and $$ P(F_{772}=1 | class=9)$$"
   ]
  },
  {
   "cell_type": "code",
   "execution_count": 13,
   "metadata": {},
   "outputs": [
    {
     "name": "stdout",
     "output_type": "stream",
     "text": [
      "0.850\n",
      "0.002\n"
     ]
    }
   ],
   "source": [
    "lh = bayes_models[5].likelihoods\n",
    "print(\"{:.3f}\".format(lh[5][682][0]))\n",
    "print(\"{:.3f}\".format(lh[9][772][1]))"
   ]
  },
  {
   "cell_type": "markdown",
   "metadata": {},
   "source": [
    "## 3."
   ]
  },
  {
   "cell_type": "markdown",
   "metadata": {},
   "source": [
    "Perform maximum a posteriori (MAP) classification of test digits according to the learned Naive Bayes modeles."
   ]
  },
  {
   "cell_type": "markdown",
   "metadata": {},
   "source": [
    "First test image"
   ]
  },
  {
   "cell_type": "code",
   "execution_count": 14,
   "metadata": {},
   "outputs": [],
   "source": [
    "x= test.loc[0].values\n",
    "label = x[0]\n",
    "x = x[1: ]"
   ]
  },
  {
   "cell_type": "code",
   "execution_count": 15,
   "metadata": {},
   "outputs": [
    {
     "name": "stdout",
     "output_type": "stream",
     "text": [
      "k = 1\n",
      "Log posteriori probability of class = 5: -206.09087174321962\n",
      "Log posteriori probability of class = 7: -114.62566181130136\n",
      "k = 5\n",
      "Log posteriori probability of class = 5: -205.91085479090947\n",
      "Log posteriori probability of class = 7: -115.01832968379027\n"
     ]
    }
   ],
   "source": [
    "for k in [1, 5]:\n",
    "    print(\"k = {}\".format(k))\n",
    "    p = bayes_models[k].calculate_log_posteriori(x)\n",
    "    print(\"Log posteriori probability of class = 5:\", p[5])\n",
    "    print(\"Log posteriori probability of class = 7:\", p[7])"
   ]
  },
  {
   "cell_type": "markdown",
   "metadata": {},
   "source": [
    "## 4."
   ]
  },
  {
   "cell_type": "markdown",
   "metadata": {},
   "source": [
    "Use the true class labels of the test images from the mnist test file to check the correctness of the estimated label for each test digit. Report your performance in terms of the classification rate (percentage of all test images correctly classified) for each value of k from 1 to 5.\n",
    "\n"
   ]
  },
  {
   "cell_type": "code",
   "execution_count": 16,
   "metadata": {},
   "outputs": [],
   "source": [
    "def calculate_accuracy(cm, n):\n",
    "    \"\"\"Calculate accuracy using confusion matrix\"\"\"\n",
    "    correct = sum(cm[DIGITS, DIGITS])\n",
    "    return correct / n"
   ]
  },
  {
   "cell_type": "code",
   "execution_count": 17,
   "metadata": {},
   "outputs": [],
   "source": [
    "num_test = test.shape[0]"
   ]
  },
  {
   "cell_type": "code",
   "execution_count": 18,
   "metadata": {},
   "outputs": [
    {
     "name": "stdout",
     "output_type": "stream",
     "text": [
      "Accuracy on test when k = 1 is 0.84270\n",
      "Accuracy on test when k = 2 is 0.84250\n",
      "Accuracy on test when k = 3 is 0.84190\n",
      "Accuracy on test when k = 4 is 0.84170\n",
      "Accuracy on test when k = 5 is 0.84120\n"
     ]
    }
   ],
   "source": [
    "accuracy = []\n",
    "for k, model in sorted(bayes_models.items()):\n",
    "    cm = model.get_confusion_matrix(test)\n",
    "    accuracy.append(calculate_accuracy(cm, num_test))\n",
    "    print(\"Accuracy on test when k = {} is {:.5f}\".format(k, accuracy[-1]))"
   ]
  },
  {
   "cell_type": "markdown",
   "metadata": {},
   "source": [
    "From the plot below, we can see that when K = 1, we will get highest accuracy"
   ]
  },
  {
   "cell_type": "code",
   "execution_count": 19,
   "metadata": {},
   "outputs": [
    {
     "data": {
      "image/png": "[encoded data removed]",
      "text/plain": [
       "<Figure size 432x288 with 1 Axes>"
      ]
     },
     "metadata": {
      "needs_background": "light"
     },
     "output_type": "display_data"
    }
   ],
   "source": [
    "plt.plot(range(1, 6), accuracy)\n",
    "plt.xlabel(\"K\")\n",
    "plt.ylabel(\"Accuracy\")\n",
    "plt.show()"
   ]
  },
  {
   "cell_type": "markdown",
   "metadata": {},
   "source": [
    "## 5."
   ]
  },
  {
   "cell_type": "markdown",
   "metadata": {},
   "source": [
    "Report your confusion matrix for the best k. This is a 10x10 matrix whose entry in row r and column c is the percentage of test images from class r that are classified as class c. (Tip: You should be able to achieve at least 70% accuracy on the test set.)"
   ]
  },
  {
   "cell_type": "code",
   "execution_count": 20,
   "metadata": {},
   "outputs": [],
   "source": [
    "cm = bayes_models[5].get_confusion_matrix(test)"
   ]
  },
  {
   "cell_type": "code",
   "execution_count": 21,
   "metadata": {},
   "outputs": [
    {
     "name": "stdout",
     "output_type": "stream",
     "text": [
      "Confusion matrix\n",
      "        0       1       2       3       4       5       6       7       8       9       \n",
      "0       882     0       3       4       1       51      21      1       17      0       \n",
      "1       0       1086    6       5       0       9       4       0       25      0       \n",
      "2       17      14      838     32      23      5       27      16      58      2       \n",
      "3       4       18      34      839     1       30      7       13      45      19      \n",
      "4       2       10      4       0       797     1       15      1       11      141     \n",
      "5       18      13      6       105     25      648     18      8       25      26      \n",
      "6       18      16      15      1       14      35      852     0       7       0       \n",
      "7       2       34      17      3       17      0       0       864     25      66      \n",
      "8       11      29      12      69      15      26      10      6       760     36      \n",
      "9       13      14      6       8       63      9       0       29      21      846     \n"
     ]
    }
   ],
   "source": [
    "print(\"Confusion matrix\")\n",
    "title = ''.join(\"{:8s}\".format(str(digit)) for digit in [''] + DIGITS)\n",
    "print(title)\n",
    "for i, row in enumerate(cm):\n",
    "    line = ''.join(\"{:8s}\".format(str(digit)) for digit in [str(i)] + list(row))\n",
    "    print(line)"
   ]
  },
  {
   "cell_type": "code",
   "execution_count": null,
   "metadata": {},
   "outputs": [],
   "source": []
  }
 ],
 "metadata": {
  "kernelspec": {
   "display_name": "Python 3",
   "language": "python",
   "name": "python3"
  },
  "language_info": {
   "codemirror_mode": {
    "name": "ipython",
    "version": 3
   },
   "file_extension": ".py",
   "mimetype": "text/x-python",
   "name": "python",
   "nbconvert_exporter": "python",
   "pygments_lexer": "ipython3",
   "version": "3.7.3"
  }
 },
 "nbformat": 4,
 "nbformat_minor": 2
}
